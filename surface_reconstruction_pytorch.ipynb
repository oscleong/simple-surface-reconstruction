{
 "cells": [
  {
   "cell_type": "code",
   "execution_count": 49,
   "metadata": {},
   "outputs": [],
   "source": [
    "import numpy as np\n",
    "import torch\n",
    "from torch import nn\n",
    "from torch import distributions\n",
    "from torch.nn.parameter import Parameter\n",
    "from torch.autograd import Variable\n",
    "import ot # optimal transport solver\n",
    "from data import *\n",
    "from helpers import *\n",
    "from fit import *\n",
    "from model import *\n",
    "from torchsummary import summary\n",
    "import matplotlib\n",
    "from matplotlib import pyplot as plt\n",
    "matplotlib.use('nbagg')\n",
    "from mpl_toolkits.mplot3d import axes3d\n",
    "dtype = torch.float\n",
    "device = torch.device('cpu')\n",
   ]
  },
  {
   "cell_type": "markdown",
   "metadata": {},
   "source": [
    "# Create data points, e.g. noisy points on a 2-d plane living in 3-d\n",
    "\n",
    "Here $y_i = x_i + \\eta_i$ for $i = 1,\\dots,n$ where $x_i$ live on our 2-D manifold and $\\eta_i$ denotes the noise in our measurements."
   ]
  },
  {
   "cell_type": "code",
   "execution_count": 2,
   "metadata": {},
   "outputs": [],
   "source": [
    "num_points = 40\n",
    "noise_var = 0.05\n",
    "X, noise = sample_plane(num_points, noise_var)\n",
    "X = X.float()\n",
    "Y = X + noise.float()\n",
    "noise_level = (noise**2).sum().sum()"
   ]
  },
  {
   "cell_type": "markdown",
   "metadata": {},
   "source": [
    "# Build two feedforward ReLU nets\n",
    "\n",
    "The networks $f(\\cdot;\\theta_1)$ and $f(\\cdot; \\theta_2)$ have two hidden layers with ReLU activation functions. For simplicity, we fit the outputs of both networks to the entire manifold."
   ]
  },
  {
   "cell_type": "code",
   "execution_count": 3,
   "metadata": {},
   "outputs": [
    {
     "name": "stdout",
     "output_type": "stream",
     "text": [
      "Sequential(\n",
      "  (0): Linear(in_features=2, out_features=200, bias=True)\n",
      "  (1): ReLU()\n",
      "  (2): Linear(in_features=200, out_features=400, bias=True)\n",
      "  (3): ReLU()\n",
      "  (4): Linear(in_features=400, out_features=3, bias=True)\n",
      ")\n",
      "Sequential(\n",
      "  (0): Linear(in_features=2, out_features=200, bias=True)\n",
      "  (1): ReLU()\n",
      "  (2): Linear(in_features=200, out_features=400, bias=True)\n",
      "  (3): ReLU()\n",
      "  (4): Linear(in_features=400, out_features=3, bias=True)\n",
      ")\n"
     ]
    }
   ],
   "source": [
    "D_in = 2\n",
    "D_out = 3\n",
    "hidden1 = 200\n",
    "hidden2 = 400\n",
    "\n",
    "# net 1\n",
    "v1 = build_input(num_points, D_in)\n",
    "model1 = build_network(D_in, D_out, hidden1, hidden2)\n",
    "\n",
    "# net 2\n",
    "v2 = build_input(num_points, D_in)\n",
    "model2 = build_network(D_in, D_out, hidden1, hidden2)\n",
    "\n",
    "print(model1)\n",
    "print(model2)"
   ]
  },
  {
   "cell_type": "markdown",
   "metadata": {},
   "source": [
    "# 1) Fit local patches individually\n",
    "\n",
    "In order to fit each network to our 2-D manifold, we must solve the following optimization problem: \n",
    "$$\\min_{\\theta_1, \\theta_2} \\min_{\\pi_1, \\pi_2} \\sum_{i=1}^n \\left\\| f(v^1_{i};\\theta_1) - y_{\\pi_1(i)}\\right\\|^2 + \\left\\| f(v^2_i; \\theta_2) - y_{\\pi_2(i)}\\right\\|^2.$$\n",
    "\n",
    "## 1a) Get Permutation matrices\n",
    "\n",
    "We find the individual permutations by solving either the EMD problem or the Sinkhorn regularized version. Here we solve the EMD problem directly."
   ]
  },
  {
   "cell_type": "code",
   "execution_count": 4,
   "metadata": {},
   "outputs": [],
   "source": [
    "# Get pairwise distance matrices\n",
    "Y1_pred = model1(v1) # initial network predictions\n",
    "Y2_pred = model2(v2)\n",
    "C1 = pairwise_distance_matrix(Y1_pred, Y).double()\n",
    "C2 = pairwise_distance_matrix(Y2_pred, Y).double() \n",
    "C1_np = C1.clone().detach().numpy()\n",
    "C2_np = C2.clone().detach().numpy()\n",
    "\n",
    "# Find permutation matrices using EMD or sinkhorn\n",
    "lam = 0.01\n",
    "a, b = np.ones((num_points,)), np.ones((num_points,))\n",
    "P1_np = get_permutation_matrix(a, b, C1_np, 100000, lam, 'EMD')\n",
    "P2_np = get_permutation_matrix(a, b, C2_np, 100000, lam, 'EMD')\n",
    "P1 = Variable(torch.from_numpy(P1_np), requires_grad=False)\n",
    "P2 = Variable(torch.from_numpy(P2_np), requires_grad=False)"
   ]
  },
  {
   "cell_type": "markdown",
   "metadata": {},
   "source": [
    "## 1b) Fit each network to the patch\n",
    "\n",
    "Here training loss is the MSE with respect to noisy points and test loss is the MSE with respect to clean points."
   ]
  },
  {
   "cell_type": "code",
   "execution_count": 5,
   "metadata": {},
   "outputs": [
    {
     "name": "stdout",
     "output_type": "stream",
     "text": [
      "Fitting of local patches...\n",
      "Iteration:0, Training loss (net 1):99.03827108442783, Test loss (net 1):98.5681736767292\n",
      "Iteration:0, Training loss (net 2):103.79693706333637, Test loss (net 2):103.37999099493027\n",
      "Noise level:0.34979533997647894\n",
      "Iteration:1000, Training loss (net 1):1.2011593356728554, Test loss (net 1):1.2728957757353783\n",
      "Iteration:1000, Training loss (net 2):0.8952953405678272, Test loss (net 2):1.1451517082750797\n",
      "Noise level:0.34979533997647894\n",
      "Iteration:2000, Training loss (net 1):0.1624411717057228, Test loss (net 1):0.4941551983356476\n",
      "Iteration:2000, Training loss (net 2):0.3026561923325062, Test loss (net 2):0.6017833165824413\n",
      "Noise level:0.34979533997647894\n",
      "Iteration:3000, Training loss (net 1):0.029373612254858017, Test loss (net 1):0.38533227518200874\n",
      "Iteration:3000, Training loss (net 2):0.13592985272407532, Test loss (net 2):0.47373758628964424\n",
      "Noise level:0.34979533997647894\n",
      "Iteration:4000, Training loss (net 1):0.004056364297866821, Test loss (net 1):0.3543548993766308\n",
      "Iteration:4000, Training loss (net 2):0.07729854434728622, Test loss (net 2):0.4302189312875271\n",
      "Noise level:0.34979533997647894\n",
      "Iteration:5000, Training loss (net 1):0.0006465129554271698, Test loss (net 1):0.3494560159742832\n",
      "Iteration:5000, Training loss (net 2):0.03901379182934761, Test loss (net 2):0.392561350017786\n",
      "Noise level:0.34979533997647894\n",
      "--------------------------------------------------------------\n"
     ]
    }
   ],
   "source": [
    "loss_fn = torch.nn.MSELoss(reduction = \"sum\")\n",
    "maxiter = 6000\n",
    "lr = 1e-4\n",
    "error_train_net1, error_test_net1, error_train_net2, error_test_net2 = fit_local_patch(v1, model1,\n",
    "                                                                                      v2, model2,\n",
    "                                                                                      loss_fn,\n",
    "                                                                                      maxiter,\n",
    "                                                                                      noise_level,\n",
    "                                                                                      lr,\n",
    "                                                                                      P1,\n",
    "                                                                                      P2,\n",
    "                                                                                      Y,\n",
    "                                                                                      X)"
   ]
  },
  {
   "cell_type": "markdown",
   "metadata": {},
   "source": [
    "# Plot training and test loss during local fitting\n",
    "Here we see that the networks individually fit well to the patch"
   ]
  },
  {
   "cell_type": "code",
   "execution_count": 50,
   "metadata": {},
   "outputs": [
    {
     "data": {
      "application/vnd.jupyter.widget-view+json": {
       "model_id": "da5f8eb7044a45b092907586ab9c26c6",
       "version_major": 2,
       "version_minor": 0
      },
      "text/plain": [
       "FigureCanvasNbAgg()"
      ]
     },
     "metadata": {},
     "output_type": "display_data"
    },
    {
     "data": {
      "text/plain": [
       "<matplotlib.legend.Legend at 0x1d44a085ac8>"
      ]
     },
     "execution_count": 50,
     "metadata": {},
     "output_type": "execute_result"
    }
   ],
   "source": [
    "# Plot all losses(training and test)\n",
    "plt.figure()\n",
    "plt.plot(error_train_net1, color='b', linestyle='-', label='Train Loss (net 1)')\n",
    "plt.plot(error_test_net1, color='b', linestyle='--', label='Test Loss (net 1)')\n",
    "plt.plot(error_train_net2, color='r', linestyle='-', label='Train Loss (net 2)')\n",
    "plt.plot(error_test_net2, color='r', linestyle='--',  label='Test Loss (net 2)')\n",
    "plt.axhline(y=noise_level, color='m', linestyle='-.', label='noise level')\n",
    "plt.ylabel('l2 loss')\n",
    "plt.xlabel('number of iterations')\n",
    "plt.yscale('log')\n",
    "plt.title('Comparison of losses for each net over time')\n",
    "plt.legend()"
   ]
  },
  {
   "cell_type": "markdown",
   "metadata": {},
   "source": [
    "# 2) Fit networks to one another\n",
    "## 2a) Get mapping from parametric indices"
   ]
  },
  {
   "cell_type": "code",
   "execution_count": 7,
   "metadata": {},
   "outputs": [],
   "source": [
    "# Get permutation pi_p->q between parametric indices P1hat, P2hat_inv\n",
    "P1_npinv = np.linalg.inv(P1_np)\n",
    "P2_npinv = np.linalg.inv(P2_np)\n",
    "P3 = get_permutation_btwn_parametric(P1_np, P2_npinv)"
   ]
  },
  {
   "cell_type": "markdown",
   "metadata": {},
   "source": [
    "## 2b) Ensure network outputs are consistent with one another"
   ]
  },
  {
   "cell_type": "code",
   "execution_count": 8,
   "metadata": {},
   "outputs": [
    {
     "name": "stdout",
     "output_type": "stream",
     "text": [
      "Consistency fitting...\n",
      "Iteration:0, Training loss (net 1):0.00010702386498451233, Test loss (net 1):0.34905054047703743\n",
      "Iteration:0, Training loss (net 2):0.008941326290369034, Test loss (net 2):0.3605935648083687\n",
      "Iteration:0, Consistency loss:0.009118881076574326\n",
      "Noise level:0.34979533997647894\n",
      "Iteration:500, Training loss (net 1):0.021271508187055588, Test loss (net 1):0.35483986139297485\n",
      "Iteration:500, Training loss (net 2):0.021266795694828033, Test loss (net 2):0.3548363335430622\n",
      "Iteration:500, Consistency loss:-1.1548399925231934e-07\n",
      "Noise level:0.34979533997647894\n",
      "--------------------------------------------------------------\n"
     ]
    }
   ],
   "source": [
    "const_train_net1, const_test_net1, const_train_net2, const_test_net2 = fit_consistency(v1, model1,\n",
    "                                                                                       v2, model2,\n",
    "                                                                                       1000,\n",
    "                                                                                       noise_level,\n",
    "                                                                                       lr,\n",
    "                                                                                       P1,\n",
    "                                                                                       P2,\n",
    "                                                                                       P3,\n",
    "                                                                                       Y,\n",
    "                                                                                       X)\n",
    "\n",
    "# Compile errors\n",
    "error_train_net1 += const_train_net1\n",
    "error_train_net2 += const_train_net2\n",
    "error_test_net1 += const_test_net1\n",
    "error_test_net2 += const_test_net2"
   ]
  },
  {
   "cell_type": "markdown",
   "metadata": {},
   "source": [
    "# Compare training and test loss for each network\n",
    "Appending the loss values from the consistency fitting, we see two things:\n",
    "1. Test losses stay near noise level\n",
    "2. Training losses worsen"
   ]
  },
  {
   "cell_type": "code",
   "execution_count": 51,
   "metadata": {
    "scrolled": true
   },
   "outputs": [
    {
     "data": {
      "application/vnd.jupyter.widget-view+json": {
       "model_id": "1cb6dcb28a934b5dbc1ffd82fd28b279",
       "version_major": 2,
       "version_minor": 0
      },
      "text/plain": [
       "FigureCanvasNbAgg()"
      ]
     },
     "metadata": {},
     "output_type": "display_data"
    },
    {
     "data": {
      "text/plain": [
       "<matplotlib.legend.Legend at 0x1d44c716c50>"
      ]
     },
     "execution_count": 51,
     "metadata": {},
     "output_type": "execute_result"
    }
   ],
   "source": [
    "# Plot all losses(training and test)\n",
    "plt.figure()\n",
    "plt.plot(error_train_net1, color='b', linestyle='-', label='Train Loss (net 1)')\n",
    "plt.plot(error_test_net1, color='b', linestyle='--', label='Test Loss (net 1)')\n",
    "plt.plot(error_train_net2, color='r', linestyle='-', label='Train Loss (net 2)')\n",
    "plt.plot(error_test_net2, color='r', linestyle='--',  label='Test Loss (net 2)')\n",
    "plt.axhline(y=noise_level, color='m', linestyle='-.', label='noise level')\n",
    "plt.ylabel('l2 loss')\n",
    "plt.xlabel('number of iterations')\n",
    "plt.yscale('log')\n",
    "plt.title('Comparison of losses for each net over time')\n",
    "plt.legend()"
   ]
  },
  {
   "cell_type": "markdown",
   "metadata": {},
   "source": [
    "# Plot noisy and clean data points\n",
    "\n",
    "Plotting noisy and clean points along with the plane the clean data points lie on."
   ]
  },
  {
   "cell_type": "code",
   "execution_count": 52,
   "metadata": {},
   "outputs": [
    {
     "data": {
      "application/vnd.jupyter.widget-view+json": {
       "model_id": "c3f08a250a5d485ab0e970a1807512a6",
       "version_major": 2,
       "version_minor": 0
      },
      "text/plain": [
       "FigureCanvasNbAgg()"
      ]
     },
     "metadata": {},
     "output_type": "display_data"
    },
    {
     "data": {
      "text/plain": [
       "<matplotlib.legend.Legend at 0x1d44de2be10>"
      ]
     },
     "execution_count": 52,
     "metadata": {},
     "output_type": "execute_result"
    }
   ],
   "source": [
    "planeX, planeY = np.meshgrid(np.linspace(0,2,30), np.linspace(0,2,30))\n",
    "planeZ = np.zeros((30,30))\n",
    "fig, ax = plt.subplots(1, 1, subplot_kw={'projection':'3d', 'aspect':'equal'})\n",
    "ax.scatter(Y[:100,0], Y[:100,1], Y[:100,2], s = 30, c = 'g', zorder = 10, label = 'noisy pts')\n",
    "ax.scatter(X[:100,0], X[:100,1], X[:100,2], s = 30, c = 'k', zorder = 10, label = 'clean pts')\n",
    "ax.plot_surface(planeX, planeY, planeZ, rstride=1, cstride=1, alpha=0.2,\n",
    "                cmap='bone', edgecolor='none')\n",
    "ax.legend()"
   ]
  },
  {
   "cell_type": "markdown",
   "metadata": {},
   "source": [
    "# Plot reconstructed points along with data points\n",
    "\n",
    "We see that the recovered points are much closer to the noisy points."
   ]
  },
  {
   "cell_type": "code",
   "execution_count": 53,
   "metadata": {},
   "outputs": [
    {
     "data": {
      "application/vnd.jupyter.widget-view+json": {
       "model_id": "e4f6cd3dfbe140939ceaeeecb9aa2260",
       "version_major": 2,
       "version_minor": 0
      },
      "text/plain": [
       "FigureCanvasNbAgg()"
      ]
     },
     "metadata": {},
     "output_type": "display_data"
    },
    {
     "data": {
      "text/plain": [
       "<matplotlib.legend.Legend at 0x1d44dde12b0>"
      ]
     },
     "execution_count": 53,
     "metadata": {},
     "output_type": "execute_result"
    }
   ],
   "source": [
    "Yhat1 = model1(v1).detach().numpy()\n",
    "Yhat2 = model2(v2).detach().numpy()\n",
    "fig, ax = plt.subplots(1, 1, subplot_kw={'projection':'3d', 'aspect':'equal'})\n",
    "ax.scatter(Yhat1[:100,0], Yhat1[:100,1], Yhat1[:100,2], s=30, c='b', zorder=10, label = 'net 1 recovered pts')\n",
    "ax.scatter(Y[:100,0], Y[:100,1], Y[:100,2], s = 30, c = 'g', zorder = 10, label = 'noisy pts')\n",
    "ax.scatter(X[:100,0], X[:100,1], X[:100,2], s = 30, c = 'k', zorder = 10, label = 'clean pts')\n",
    "ax.plot_surface(planeX, planeY, planeZ, rstride=1, cstride=1, alpha=0.2,\n",
    "                cmap='bone', edgecolor='none')\n",
    "ax.legend()"
   ]
  },
  {
   "cell_type": "code",
   "execution_count": 54,
   "metadata": {},
   "outputs": [
    {
     "data": {
      "application/vnd.jupyter.widget-view+json": {
       "model_id": "98a88c5d9134469ebd5fe0f2e0655442",
       "version_major": 2,
       "version_minor": 0
      },
      "text/plain": [
       "FigureCanvasNbAgg()"
      ]
     },
     "metadata": {},
     "output_type": "display_data"
    },
    {
     "data": {
      "text/plain": [
       "<matplotlib.legend.Legend at 0x1d4519ca0b8>"
      ]
     },
     "execution_count": 54,
     "metadata": {},
     "output_type": "execute_result"
    }
   ],
   "source": [
    "fig, ax = plt.subplots(1, 1, subplot_kw={'projection':'3d', 'aspect':'equal'})\n",
    "ax.scatter(Yhat2[:100,0], Yhat2[:100,1], Yhat2[:100,2], s=30, c='r', zorder=10, label = 'net 2 recovered pts')\n",
    "ax.scatter(Y[:100,0], Y[:100,1], Y[:100,2], s = 30, c = 'g', zorder = 10, label = 'noisy pts')\n",
    "ax.scatter(X[:100,0], X[:100,1], X[:100,2], s = 30, c = 'k', zorder = 10, label = 'clean pts')\n",
    "ax.plot_surface(planeX, planeY, planeZ, rstride=1, cstride=1, alpha=0.2,\n",
    "                cmap='bone', edgecolor='none')\n",
    "ax.legend()"
   ]
  },
  {
   "cell_type": "code",
   "execution_count": null,
   "metadata": {},
   "outputs": [],
   "source": []
  }
 ],
 "metadata": {
  "kernelspec": {
   "display_name": "Python 3",
   "language": "python",
   "name": "python3"
  },
  "language_info": {
   "codemirror_mode": {
    "name": "ipython",
    "version": 3
   },
   "file_extension": ".py",
   "mimetype": "text/x-python",
   "name": "python",
   "nbconvert_exporter": "python",
   "pygments_lexer": "ipython3",
   "version": "3.7.1"
  }
 },
 "nbformat": 4,
 "nbformat_minor": 2
}
